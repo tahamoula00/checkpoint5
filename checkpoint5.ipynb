{
  "nbformat": 4,
  "nbformat_minor": 0,
  "metadata": {
    "colab": {
      "name": "checkpoint5.ipynb",
      "provenance": []
    },
    "kernelspec": {
      "name": "python3",
      "display_name": "Python 3"
    },
    "language_info": {
      "name": "python"
    }
  },
  "cells": [
    {
      "cell_type": "code",
      "metadata": {
        "id": "h6pnUyVDkAnw"
      },
      "source": [
        ""
      ],
      "execution_count": null,
      "outputs": []
    },
    {
      "cell_type": "markdown",
      "metadata": {
        "id": "bVSYlp74WrM_"
      },
      "source": [
        "Write a python class named Point3D defined by x, y, and z. Define a method that returns (x, y ,z). This tells Python to represent this object in the following format: (x, y, z). Then create a variable named my_point containing a new instance of Point3D with x=1, y=2, and z=3 and print it.\n",
        "Write a Python class named Rectangle constructed by a length and width. Define two methods area and perimeter which will compute the area and the perimeter of the rectangle. Then create a variable named my_rectangle containing a new instance of Rectangle with width=3 and length = 4 and compute both of area and perimeter ( the area is expected to be 3*4=12 and perimeter 2*(3+4)=14)\n",
        "Write a Python  class named Circle constructed by its center O and radius r. Define two methods area and perimeter which will compute the area and the perimeter of the circle, and isInside() method of the class which allows to test whether a point A(x, y) belongs to the circle C(O, r) or not.\n",
        "Suppose we want to model a bank account with support for deposit and withdraw operations. Let’s create a python class named bank defined by its balance. Define two methods deposit and withdraw to compute the new amount of each operation.\n",
        "\n",
        "\n"
      ]
    },
    {
      "cell_type": "code",
      "metadata": {
        "colab": {
          "base_uri": "https://localhost:8080/",
          "height": 129
        },
        "id": "gJgwQ8h2WqA5",
        "outputId": "9dad28a2-f9c1-4942-bbb0-56830f0345cc"
      },
      "source": [
        "class Point3D:\n",
        "  def __int__(self,x,y,z):\n",
        "    self.x=x\n",
        "    self.y=y\n",
        "    self.z=z\n",
        "\n",
        "  def returning(self):\n",
        "    return \"(%d, %d, %d)\" % (self.x, self.y, self.z)\n",
        "my_point=Point3D(1,2,3)\n",
        "print(my_point)\n",
        "returning()\n",
        "\n",
        "class  Rectangle:\n",
        "  def __int__(self,length,width):\n",
        "    self.length=length\n",
        "    self.width=width\n",
        "\n",
        "my_rectangle=Rectangle(4,3)\n",
        "print(\"the perimeter =\", 2*length+2*width,\"the area is=\", width*length )\n",
        "class Circle:\n",
        "  def __int__(self,center,radius):\n",
        "    self.center=O\n",
        "    self.radius=r\n",
        "\n",
        "from math import*\n",
        "  def area():\n",
        "    A=pi*r**2\n",
        "    print(A)\n",
        "  def perimetre():\n",
        "    P=2*pi*r\n",
        "    print(P)\n",
        "area()\n",
        "perimetre()\n",
        "  def isInside(circle_x, circle_y, r, x, y):\n",
        "    #entrez les coordonnées du centre\n",
        "    centre_x=int(input(\"donner l'abscisse du O:\"))\n",
        "    centre_y=int(input(\"donner l'ordonné du O:\"))\n",
        "    d = r**2 - ((center_x-x)**2 + (center_y-y)**2)\n",
        "    if(d>0)or(d==0):\n",
        "      print(\"inside\");\n",
        "    else:\n",
        "      print(\"outside\")\n",
        "\n",
        "class bank:\n",
        "  def __int__(self,account,money):\n",
        "    self.account=account\n",
        "    self.money=money\n",
        "\n",
        "    def deposit(self,account,money):\n",
        "      return \"{} has been updated by adding {}\".format(self,account,money)\n",
        "    def withdraw(self,account,money):\n",
        "      return \"{} has been updated by substracting {}\".format(self,account,money)\n",
        "       \n",
        "    Mo7sen_account=bank(\"Mo7sen_account\",100)\n",
        "    print(deposit())\n",
        "    print(withdraw())\n",
        "\n",
        "    deposit()\n",
        "    withdraw()\n",
        "\n",
        "\n",
        "\n",
        "\n",
        "\n",
        "  \n",
        " \n",
        "\n",
        "\n"
      ],
      "execution_count": 8,
      "outputs": [
        {
          "output_type": "error",
          "ename": "IndentationError",
          "evalue": "ignored",
          "traceback": [
            "\u001b[0;36m  File \u001b[0;32m\"<ipython-input-8-8e40d494e03b>\"\u001b[0;36m, line \u001b[0;32m26\u001b[0m\n\u001b[0;31m    def area():\u001b[0m\n\u001b[0m    ^\u001b[0m\n\u001b[0;31mIndentationError\u001b[0m\u001b[0;31m:\u001b[0m unexpected indent\n"
          ]
        }
      ]
    }
  ]
}